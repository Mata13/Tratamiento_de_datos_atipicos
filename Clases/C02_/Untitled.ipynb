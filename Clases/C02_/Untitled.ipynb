{
 "cells": [
  {
   "cell_type": "markdown",
   "id": "8f608cc8-631a-4c04-8d07-3ddb6a448bd0",
   "metadata": {},
   "source": [
    "<font color='IndianRed'>\n",
    "<font size=10> \n",
    "\n",
    "**Tratamiento de Datos Atípicos**"
   ]
  },
  {
   "cell_type": "markdown",
   "id": "407fc21c-7294-4f04-ada3-b7f115396513",
   "metadata": {},
   "source": [
    "<font color = 'DodgerBlue'>\n",
    "<font size = 5>\n",
    "    \n",
    "**Gaussianidad**"
   ]
  },
  {
   "cell_type": "markdown",
   "id": "bc8fce64-4f32-4877-b0a1-81e79566d44c",
   "metadata": {},
   "source": [
    "<font color = 'Black'>\n",
    "<font size = 3>\n",
    "\n",
    "La **distribución gaussiana**, también llamada **distribución normal**, es un modelo matemático que describe cómo se distribuyen ciertos datos en la naturaleza y en muchas áreas del conocimiento. \n",
    "\n",
    "Se trata de una **variable aleatoria continua**, donde su **función de densidad** viene dada por $$f(x)=\\frac{1}{\\sigma\\sqrt{2\\pi}}e^{-\\frac{(x-\\mu)^2}{2\\sigma^2}}$$\n",
    "\n",
    "Por lo tanto su **función de distribución** es $$F(x)=\\int_{-\\infty}^x\\frac{1}{\\sigma\\sqrt{2\\pi}}e^{-\\frac{(t-\\mu)^2}{2\\sigma^2}}\\,\\mathrm{d}t$$\n",
    "\n",
    "Además, cumple que $E[X]=\\mu$, $Var(X)=\\sigma^2$ y $sd(X)=\\sigma$.\n",
    "\n",
    "Para conocer totalmente el comportamiento de una **v.a. gaussiana**, basta con conocer su media $\\mu$ y su varianza $\\sigma^2$\n",
    "\n",
    "Donde, $f(x)$ es la derivada y la $F(X)$ es la integral. La probabilidad es el resultado de la integral bajo la curva. Es decir, el área bajo la curva de $F(X)$.\n",
    "\n",
    "Supongamos que si $f(x)$ vale: \n",
    "\n",
    "$e^{-x}$, $\\forall x > 0$, \n",
    "\n",
    "entonces $P(X = 0.75) = 0$, ya que en funciones continuas siempre se tiene que la probabilidad $P(x = \\text{cualquier valor}) = 0$. Es muy difícil que la probabilidad que salga ese valor es muy baja pero no imposible.\n",
    "\n",
    "<img src=\"Img/gaussianas.gif\" style=\"display:block; margin:auto;\">\n",
    "\n",
    "En https://github.com/scidatmath2020/An_rob_2025/blob/main/auxiliares/gaussianas.ggb se puede descargar un archivo **geogebra** para realizar la animación anterior.\n",
    "\n",
    "De aquí se puede entender el principio de la **Delta de Dirac**. Cuando la $\\sigma = 0$ la integral tiende a la **Delta de Dirac**. Es decir, que se va a infinito.\n",
    "\n",
    "Si un conjunto tiene medida Lebesgue cero, entonces tiene la probabilidad = 0\n",
    "\n",
    "Cuando te tomas la medida de conteo tiene la media\n",
    "\n",
    "---"
   ]
  },
  {
   "cell_type": "markdown",
   "id": "df8a4746-f9d4-46ea-9f1d-8f34d6da2534",
   "metadata": {},
   "source": [
    "<font color = 'DodgerBlue'>\n",
    "<font size = 5>\n",
    "    \n",
    "**¿Por qué es importante?**"
   ]
  },
  {
   "cell_type": "markdown",
   "id": "7bed3a25-7e9a-4723-a3ac-cacac83e7055",
   "metadata": {},
   "source": [
    "<font color = 'Black'>\n",
    "<font size = 3>\n",
    "    \n",
    "- **Aparece en muchos fenómenos naturales y sociales:** Desde alturas de personas hasta errores de medición o calificaciones en un examen.\n",
    "- **Es clave en estadística y aprendizaje automático:** Se usa para hacer predicciones, detectar patrones y modelar incertidumbre.  \n",
    "- **Es la base del Teorema Central del Límite:** Lo que significa que, en muchos casos, al promediar suficientes datos aleatorios, estos terminan siguiendo una distribución normal.\n",
    "\n",
    "Este último punto, aunque no es tan obvio, la hace ser la **variable aleatoria** más importante de todas tanto en la teoría como en la práctica, sin importar el tipo de investigación: es la más importante en Ciencias Sociales, Naturales, Exactas y Lógicas. \n",
    "\n",
    "En resumen, la **distribución gaussiana** es una de las herramientas más poderosas en matemáticas y ciencia, ayudándonos a entender y predecir el comportamiento de datos en el mundo real. \n",
    "\n",
    "---"
   ]
  },
  {
   "cell_type": "markdown",
   "id": "d25b8a63-eace-4a05-b0cc-c27c8c2f65ab",
   "metadata": {},
   "source": [
    "<font color = 'DodgerBlue'>\n",
    "<font size = 5>\n",
    "    \n",
    "**Propiedades**"
   ]
  },
  {
   "cell_type": "markdown",
   "id": "3e1cd392-5d6e-42e5-ba05-94ed313015dd",
   "metadata": {},
   "source": [
    "<font color = 'Black'>\n",
    "<font size = 3>\n",
    "    \n",
    "* Es simétrica con respecto de su **media**. Es decir, la **media** actúa como un espejo a su derecha y a su izquierda.\n",
    "\n",
    "* En el intervalo $[\\mu-\\sigma,\\mu+\\sigma]$ se concentra el 68% de los datos.\n",
    "\n",
    "<img src=\"Img/im005.png\" style=\"display:block; margin:auto;\">\n",
    "\n",
    "* En el intervalo $[\\mu-2\\sigma,\\mu+2\\sigma]$ se concentra el 95.5% de los datos.\n",
    "\n",
    "<img src=\"Img/im006.png\" style=\"display:block; margin:auto;\">\n",
    "\n",
    "* En el intervalo $[\\mu-3\\sigma,\\mu+3\\sigma]$ se concentra el 99.7% de los datos.\n",
    "\n",
    "<img src=\"Img/im007.png\" style=\"display:block; margin:auto;\">\n",
    "\n",
    "---"
   ]
  }
 ],
 "metadata": {
  "kernelspec": {
   "display_name": "Python 3 (ipykernel)",
   "language": "python",
   "name": "python3"
  },
  "language_info": {
   "codemirror_mode": {
    "name": "ipython",
    "version": 3
   },
   "file_extension": ".py",
   "mimetype": "text/x-python",
   "name": "python",
   "nbconvert_exporter": "python",
   "pygments_lexer": "ipython3",
   "version": "3.10.15"
  }
 },
 "nbformat": 4,
 "nbformat_minor": 5
}
