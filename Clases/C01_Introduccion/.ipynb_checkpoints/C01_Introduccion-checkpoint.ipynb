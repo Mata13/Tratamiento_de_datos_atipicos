{
 "cells": [
  {
   "cell_type": "markdown",
   "id": "13a2ecc5-2211-4bf7-b509-65e151135c9c",
   "metadata": {},
   "source": [
    "<font color='IndianRed'>\n",
    "<font size=10> \n",
    "\n",
    "**Tratamiento de Datos Atípicos**"
   ]
  },
  {
   "cell_type": "markdown",
   "id": "c4a01ac1-9ae2-46b9-9978-ed66ff0ab601",
   "metadata": {},
   "source": [
    "<font color = 'DodgerBlue'>\n",
    "<font size = 7>\n",
    "    \n",
    "**Introducción**"
   ]
  },
  {
   "cell_type": "markdown",
   "id": "66525758-d30b-4dcc-972a-f70ba1d743d5",
   "metadata": {},
   "source": [
    "<font color = 'Black'>\n",
    "<font size = 3>\n",
    "\n",
    "Los **datos atípicos** o **outliers**, o también conocidos como **datos anómalos** o **anomalías**, son observaciones cuyos valores son muy diferentes a las otras observaciones del mismo grupo de datos. Desde el punto de vista **distribucional**, se podría decir que son datos que no pertenecen a la misma **distribución** que los demás, es decir, han sido creados por un proceso o una distribución diferente.\n",
    "\n",
    "Los **datos atípicos** pueden ser ocasionados por diversas causas:  \n",
    "\n",
    "**a)** Errores de procedimiento o de medición.  \n",
    "**b)** Acontecimientos extraordinarios.  \n",
    "**c)** Valores muy extremos.  \n",
    "**d)** Causas no conocidas.  \n",
    "\n",
    "---"
   ]
  },
  {
   "cell_type": "markdown",
   "id": "fd5342b9-1ff3-4ded-abc2-4c0ea3e3b438",
   "metadata": {},
   "source": [
    "<font color = 'LightSeaGreen'>\n",
    "<font size = 3>\n",
    "\n",
    "**Ejemplo 1: Brillo de las estrellas**"
   ]
  },
  {
   "cell_type": "markdown",
   "id": "92828d96-da69-4f2c-9eb6-4a19df8b1905",
   "metadata": {},
   "source": [
    "<font color = 'LightSeaGreen'>\n",
    "<font size = 3>\n",
    "\n",
    "El cúmulo de estrellas conocido como Cyg OB2, situada en la Constelación del Cisne. Algunas estimaciones recientes, basadas en observaciones infrarrojas y estudios de densidad estelar, sugieren que el cúmulo podría tener hasta 10,000 estrellas en total, pero no todas son masivas; muchas son estrellas menos luminosas y difíciles de detectar.\n",
    "\n",
    "Este cúmulo se encuentra a unos 5,000 años luz de la Tierra. Imagina que graficamos la luminosidad contra la temperatuara en algunas estrellas. Uno esperaría que a mayor temperatura habrá mayor luminosidad. Veamos las siguientes gráficas. Al parecer nuestra conjetura es casi cierta, salvo por un pequeño grupo de estrellas que tienen baja temperatura pero muy alta luminosidad. \n",
    "\n",
    "¿A qué se puede deber esto? ¿Alguien se equivocó al recabar la información? ¿Existirá un fenómeno físico escondido en ellas?\n",
    "\n",
    "<img src=\"Img/im001.png\" style=\"display:block; margin:auto;\">\n",
    "\n",
    "---"
   ]
  },
  {
   "cell_type": "markdown",
   "id": "68cc332b-dc5a-4fa6-81c5-32340173af07",
   "metadata": {},
   "source": [
    "<font color = 'LightSeaGreen'>\n",
    "<font size = 3>\n",
    "\n",
    "**Ejemplo 2: Puntuación de los episodios de los Simpson**"
   ]
  },
  {
   "cell_type": "markdown",
   "id": "822ab9a7-b6f4-44f5-8251-c183ad38c088",
   "metadata": {},
   "source": [
    "<font color = 'LightSeaGreen'>\n",
    "<font size = 3>\n",
    "\n",
    "Consideremos las primeras 35 temporadas de los Simpson, rankeadas con un valor entre 0 y 100. Los puntajes atípicos pueden ser fácilmente identificados como aquellos capítulos donde el color no \"empareja\" con los demás colores.\n",
    "\n",
    "<img src=\"Img/im002.png\" style=\"display:block; margin:auto;\">\n",
    "\n",
    "---"
   ]
  },
  {
   "cell_type": "markdown",
   "id": "18725dc1-e7ca-4460-9e8f-b0d803b59f2b",
   "metadata": {},
   "source": [
    "<font color = 'LightSeaGreen'>\n",
    "<font size = 3>\n",
    "\n",
    "**Ejemplo 3: El Cuarteto de Anscombe**"
   ]
  },
  {
   "cell_type": "markdown",
   "id": "3cdfe01d-24a8-4e74-abc6-5ed97e652c6e",
   "metadata": {},
   "source": [
    "<font color = 'LightSeaGreen'>\n",
    "<font size = 3>\n",
    "\n",
    "El Cuarteto de Anscombe es un conjunto de cuatro conjuntos de datos creados por el estadístico **Francis Anscombe** en 1973 para demostrar la importancia de visualizar los datos en lugar de depender únicamente de estadísticas descriptivas como la **media** y la **varianza**.\n",
    "\n",
    "<img src=\"Img/im003.png\" style=\"display:block; margin:auto;\">\n",
    "\n",
    "Lo que nos muestra la imagen es que la presencia de un **dato atípico** afecta la tendencia de la recta.\n",
    "\n",
    "---"
   ]
  },
  {
   "cell_type": "markdown",
   "id": "c0d3cb1a-592e-4b7c-ace9-fe626a14e876",
   "metadata": {},
   "source": [
    "<font color = 'DodgerBlue'>\n",
    "<font size = 5>\n",
    "    \n",
    "**¿Qué es un outlier?**"
   ]
  },
  {
   "cell_type": "markdown",
   "id": "75357dcc-6cca-46d3-b9ab-e2820b5aee56",
   "metadata": {},
   "source": [
    "<font color = 'Black'>\n",
    "<font size = 3>\n",
    "\n",
    "Un **outlier** es un dato que no se ajusta al patrón general de los **datos**. Es por eso que también es llamado *dato atípico* o *anómalo*. \n",
    "\n",
    "Es decir, son observaciones que tienen características muy diferentes a las otras observaciones. Por lo tanto, debemos evaluar el tipo de información que nos pueden proporcionar. \n",
    "\n",
    "Pueden surgir por un error de procedimiento, como la recolección de los **datos**, o como consecuencia de un evento extraordinario. \n",
    "\n",
    "Su principal problema radica en que son elementos que pueden no ser representativos de una **población**, pudiendo distorsionar seriamente el comportamiento de los métodos o **análisis estadísticos** que hagamos.\n",
    "\n",
    "En este sentido, pueden aumentar la **varianza** (o dispersión) de una característica o **sesgar** e influir negativamente en las estimaciones que se hagan.\n",
    "\n",
    "---"
   ]
  },
  {
   "cell_type": "markdown",
   "id": "786cc80c-f738-4300-8a88-e4816fa01f75",
   "metadata": {},
   "source": [
    "<font color = 'DodgerBlue'>\n",
    "<font size = 5>\n",
    "    \n",
    "**Muestras y poblaciones**"
   ]
  },
  {
   "cell_type": "markdown",
   "id": "6d5a8941-148b-48d2-bc10-a88c1671014d",
   "metadata": {},
   "source": [
    "<font color = 'Black'>\n",
    "<font size = 3>\n",
    "\n",
    "Una **población** es un conjunto sobre el cual queremos hacer alguna **inferencia**. La **población** se trata del *grupo completo* que queremos estudiar. Por ejemplo, todos los votantes de un país, todos los focos producidos por una empresa durante un mes, todas las estellas en una cierta galaxia, los televidentes de una serie o programa, o las personas susceptibles a contagiarse de una cierta enfermedad.   \n",
    "\n",
    "De esta manera, el problema principal de la **Estadística Inferencial** es hacer deducciones acerca de la población de interés. Por ejemplo, cómo se repartirán los votos de los votantes, qué porcentaje de focos producidos son defectuosos, cuál es el brillo promedio de las estrellas en la galaxia, el valor promedio del gusto de los televidentes de una serie, o en qué porcentaje funciona un medicamento en personas susceptibles a contagiarse de cierta enfermedad.\n",
    "\n",
    "Por su parte, como lo palabra lo indica, una **muestra** es un subconjunto de algo más grande; en este caso, un subconjunto de la **población**. En general, tomar la **población** de interés para medir la característica de estudio es imposible, debido a recursos económicos, técnicos o de tiempo. Por ejemplo, para conocer el brillo promedio de las estrellas en la galaxia es imposible que midamos el brillo de todas sus estrellas. Es por ello que tomamos una muestra en la cual los factores anteriores (falta de recursos mencionados previamente) no representen un problema.\n",
    "\n",
    "Un **muestreo aleatorio simple** es un procedimiento para seleccionar una **muestra** de la **población**, el cual tiene la característica de que si $a$ y $b$ son cualesquiera dos elementos de la **población**, entonces el total de muestras en las que vive $a$ es igual al total de **muestras** en las que vive $b$. Es decir, seleccionas los elementos de la **muestra** al azar.\n",
    "\n",
    "Para dar una idea de esto, supongamos que tenemos una **población**:\n",
    "\n",
    "$$\\mathbb{P} = \\{a, b, c\\}$$\n",
    "\n",
    "y te preguntas, cuántas **muestras** tienen a $a$?\n",
    "\n",
    "$$\\{a\\}, \\{a, b\\}, \\{a, c\\}, \\{a, b, c\\}$$\n",
    "\n",
    "Cuántas **muestras** tienen a $b$?\n",
    "\n",
    "$$\\{b\\}, \\{a, b\\}, \\{b, c\\}, \\{a, b, c\\}$$\n",
    "\n",
    "El total de **muestras** que contienen a $a$ es igual que el total de **muestras** que contienen $b$.\n",
    "\n",
    "---"
   ]
  },
  {
   "cell_type": "markdown",
   "id": "8bea8a0a-1bf9-41ef-9200-a53229f230b5",
   "metadata": {},
   "source": [
    "<font color = 'DodgerBlue'>\n",
    "<font size = 5>\n",
    "    \n",
    "**Variables aleatorias**"
   ]
  },
  {
   "cell_type": "markdown",
   "id": "e4699b66-0949-45d3-bbf5-935d5b27f699",
   "metadata": {},
   "source": [
    "<font color = 'Black'>\n",
    "<font size = 3>\n",
    "\n",
    "Una **variable alealtoria** es una característica de la **población** (de cada elemento de la **población**): por quién votará una persona; el foco funciona bien o no; el brillo de una estrella; qué calificación le da un televidente a un episodio de la serie; el medicamente sirve o no en la persona contagiada.\n",
    "\n",
    "Como quiera que sea, las **variables aleatorias** siempre se representan con números. Por ejemplo, 1 si el foco funciona bien o 0 si no lo hace; o la intensidad del brillo estelar; o la calificación que asigna el televidente; o 1 si el medicamento sirve y 0 si no sirve.\n",
    "\n",
    "Las **variables aleatorias** siguen *comportamientos generales*, aunque no siempre son evidentes. A ese comportamiento es a lo que llamamos **distribución de la variable aleatoria**. \n",
    "\n",
    "En general tenemos dos tipos de **variables aleatorias**: **discretas** y **continuas**. \n",
    "\n",
    "---"
   ]
  },
  {
   "cell_type": "markdown",
   "id": "290ef907-f5c8-499c-a47e-479601ea2af4",
   "metadata": {},
   "source": [
    "<font color = 'DodgerBlue'>\n",
    "<font size = 5>\n",
    "    \n",
    "**Variables discretas y continuas**"
   ]
  },
  {
   "cell_type": "markdown",
   "id": "7ba4c106-2acf-4a62-9530-49bb6f0b8595",
   "metadata": {},
   "source": [
    "<font color = 'Black'>\n",
    "<font size = 3>\n",
    "\n",
    "Las **variables aleatorias** siempre se representan con números. Si el total de resultados es un conjunto finito o numerable, se dice que se trata de una **variable discreta**; en caso contrario, se dice que es una **variable continua**.\n",
    "\n",
    "Por ejemplo, la edad de los televidentes de una serie. Este valor, puede ser 0 años, 1 año, 2 años,..., 75 años, 76 años y probablemente más. Por lo tanto, el conjunto de posibles edades **es contable**, así que se trata de una variable de tipo discreto. \n",
    "\n",
    "Por su parte, si al televidente se le pregunta la calificación de cierto capítulo y se le permite elegir cualquier valor entre 0 y 10, él podría decir 4.5, $\\pi$, 9.5437261, etc. Entonces el conjunto de valores que puede tomar esta **variable aleatoria** no es contable, por lo que es una variable **continua**.\n",
    "\n",
    "<img src=\"Img/im004.png\" style=\"display:block; margin:auto;\">\n",
    "\n",
    "Finalmente, el **rango** de una **variable aleatoria** son todos los posibles resultados que pueda tener.\n",
    "\n",
    "En resumen:\n",
    "\n",
    "* Nos va a interesar medir una **característica** de la **población**: **variable aleatoria**.\n",
    "\n",
    "* Dicha **característica** puede ser **discreta** o **continua**.\n",
    "\n",
    "* Al no poder medir la **característica** en toda la **población**, utilizamos una **muestra**.\n",
    "\n",
    "---"
   ]
  },
  {
   "cell_type": "markdown",
   "id": "25e68742-78af-4020-b552-4e2f5e0186dc",
   "metadata": {},
   "source": [
    "<font color = 'DodgerBlue'>\n",
    "<font size = 5>\n",
    "    \n",
    "**Distribución de una variable aleatoria**"
   ]
  },
  {
   "cell_type": "markdown",
   "id": "36fc1dd6-3cf0-490b-8b2c-72e817fa0ba5",
   "metadata": {},
   "source": [
    "<font color = 'Black'>\n",
    "<font size = 3>\n",
    "\n",
    "Como hemos dicho, el comportamiento de una **variable aleatoria** es lo que se denomina **su distribución** o *ley de probabilidades*.\n",
    "\n",
    "Imagina que lanzas una moneda dos veces. Anotamos el número de caras que obtuvimos. De esta manera, los posibles resultados son 0,1 y 2: ninguna; una cara y una cruz o una cruz y una cara; ambas caras. Entonces el rango es $\\{0,1,2\\}$.\n",
    "\n",
    "Ahora observemos cada elemento del rango. Sabemos que los posibles resultados de los lanzamientos fueron *cara,cara*; *cara,cruz*; *cruz;cara* y *cruz,cruz*. Por lo tanto, el 0 solo se puede obtener de una manera. El 1 se puede obtener de dos manera; y el 2 se puede obtener de una manera. Como hay 4 posibles resultados, entonces lo anterior se escribe como $$P(0)=\\frac{1}{4},\\,P(1)=\\frac{2}{4},\\,P(2)=\\frac{1}{4}$$\n",
    "\n",
    "De esta manera, si $X$ es el número de caras obtenidas, entonces $$P(X=0)=\\frac{1}{4},\\,P(X=1)=\\frac{2}{4},\\,P(X=2)=\\frac{1}{4}$$\n",
    "\n",
    "En general, al número $P(X=x)$ se le denota por $f(x)$. A esta función $f$ se le llama **densidad**.\n",
    "\n",
    "Finalmente, la **distribución de una variable aleatoria** es la función que le asigna a cada número la probabilidad de que la **variable aleatoria** sea menor o igual que ese valor; se denota por $F$. Así si $x$ es un número cualquiera, entonces $$F(x)=P(X\\le x)$$\n",
    "\n",
    "En el ejemplo de las monedas: $$F(x)=\\left\\{\\begin{array}{l}0\\,\\mbox{ si }\\,x<0\\\\0.25\\,\\mbox{ si }\\,0\\le x<1\\\\0.75\\,\\mbox{ si }\\,1\\le x<2\\\\1\\,\\mbox{ si }\\,2\\le x \\end{array}\\right.$$\n",
    "\n",
    "Por lo tanto, la **distribución** y la **densidad** de una **variable aleatoria** se relacionan de la siguiente manera:\n",
    "\n",
    "* **Caso discreto.** En este caso $f(x)=P(X=x)$ y $$F(x)=P(X\\le x)=\\sum_{x\\in R}xf(x)$$\n",
    "\n",
    "Además, siempre se tiene $$\\sum_{x\\in R}f(x)=1$$\n",
    "\n",
    "* **Caso continuo.** En este caso $f(x)=F^\\prime(x)$ y $$F(x)=P(X\\le x)=\\int_{-\\infty}^x f(t)\\,\\mathrm{d}t$$\n",
    "\n",
    "Además, siempre se tiene $$\\int_{-\\infty}^\\infty f(x)\\,\\mathrm{d}x=1$$"
   ]
  },
  {
   "cell_type": "markdown",
   "id": "fc5a7d85-3cd3-4ca7-8185-6ac4e2d0ff51",
   "metadata": {},
   "source": [
    "<font color = 'Brown'>\n",
    "<font size = 4>\n",
    "    \n",
    "**Notas**"
   ]
  },
  {
   "cell_type": "markdown",
   "id": "632bbe79-3688-427f-b277-28b0b52d4749",
   "metadata": {},
   "source": [
    "<font color = 'DarkRed'>\n",
    "<font size = 3>\n",
    "\n",
    "- Eliminar **datos atípicos** no siempre es buen idea."
   ]
  }
 ],
 "metadata": {
  "kernelspec": {
   "display_name": "Python 3 (ipykernel)",
   "language": "python",
   "name": "python3"
  },
  "language_info": {
   "codemirror_mode": {
    "name": "ipython",
    "version": 3
   },
   "file_extension": ".py",
   "mimetype": "text/x-python",
   "name": "python",
   "nbconvert_exporter": "python",
   "pygments_lexer": "ipython3",
   "version": "3.10.15"
  }
 },
 "nbformat": 4,
 "nbformat_minor": 5
}
